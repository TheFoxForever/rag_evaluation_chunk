{
 "cells": [
  {
   "cell_type": "code",
   "execution_count": 6,
   "id": "47f1eff0-5541-4578-96d0-b23c538382eb",
   "metadata": {
    "collapsed": true,
    "jupyter": {
     "outputs_hidden": true
    },
    "scrolled": true
   },
   "outputs": [
    {
     "name": "stdout",
     "output_type": "stream",
     "text": [
      "Requirement already satisfied: pandas in /opt/conda/lib/python3.10/site-packages (2.2.2)\n",
      "Requirement already satisfied: tzdata>=2022.7 in /opt/conda/lib/python3.10/site-packages (from pandas) (2024.1)\n",
      "Requirement already satisfied: python-dateutil>=2.8.2 in /opt/conda/lib/python3.10/site-packages (from pandas) (2.9.0.post0)\n",
      "Requirement already satisfied: pytz>=2020.1 in /opt/conda/lib/python3.10/site-packages (from pandas) (2024.1)\n",
      "Requirement already satisfied: numpy>=1.22.4 in /opt/conda/lib/python3.10/site-packages (from pandas) (1.26.4)\n",
      "Requirement already satisfied: six>=1.5 in /opt/conda/lib/python3.10/site-packages (from python-dateutil>=2.8.2->pandas) (1.16.0)\n"
     ]
    }
   ],
   "source": [
    "!pip install pandas"
   ]
  },
  {
   "cell_type": "code",
   "execution_count": 3,
   "id": "3360e6d7-ab28-4343-b3d5-c46b433c6136",
   "metadata": {},
   "outputs": [],
   "source": [
    "import os\n",
    "import pandas as pd"
   ]
  },
  {
   "cell_type": "code",
   "execution_count": 6,
   "id": "3fdbf481-253d-4e48-bce3-d9d4c66a5598",
   "metadata": {},
   "outputs": [],
   "source": [
    "def separate_q_a(folder, filename):\n",
    "    full_filename = os.path.join(folder, filename)\n",
    "    df = pd.read_csv(full_filename)\n",
    "    df[\"Generated Answer\"] = ''\n",
    "    df_unique = df.drop_duplicates(subset='Filename', keep='first')\n",
    "    df_sep = df_unique.copy(deep=True)\n",
    "    for idx, item in enumerate(df_unique[\"Generated Question\"]):\n",
    "        if \"?\" in item:\n",
    "            parts = item.split(\"?\")\n",
    "            question_part = \" \".join(parts[:-1]).replace(\"\\n\", \" \").replace(\"'\", \"\").strip()\n",
    "            answer_part = parts[-1].replace(\"\\n\", \" \").replace(\"'\", \"\").strip()\n",
    "            \n",
    "            df_sep.at[idx, 'Generated Question'] = question_part\n",
    "            df_sep.at[idx, 'Generated Answer'] = answer_part\n",
    "        else:\n",
    "            df_sep.at[idx, 'Generated Question'] = item.replace(\"\\n\", \" \").replace(\"'\", \"\").strip()\n",
    "            df_sep.at[idx, 'Generated Answer'] = \"\"\n",
    "    outfile = os.path.join(\"cleaned_questions/\", filename)\n",
    "    df_sep.to_csv(outfile)\n",
    "    return"
   ]
  },
  {
   "cell_type": "code",
   "execution_count": 7,
   "id": "ddbca23d-de26-4899-80ea-2db61a195734",
   "metadata": {},
   "outputs": [
    {
     "name": "stdout",
     "output_type": "stream",
     "text": [
      "Index(['Filename', 'Chunk Size', 'Generated Question', 'Generated Answer'], dtype='object')\n",
      "Index(['Filename', 'Chunk Size', 'Generated Question', 'Generated Answer'], dtype='object')\n",
      "Index(['Filename', 'Chunk Size', 'Generated Question'], dtype='object')\n",
      "Index(['Filename', 'Chunk Size', 'Generated Question', 'Generated Answer'], dtype='object')\n",
      "Index(['Filename', 'Chunk Size', 'Generated Question', 'Generated Answer'], dtype='object')\n",
      "Index(['Filename', 'Chunk Size', 'Generated Question', 'Generated Answer'], dtype='object')\n",
      "Index(['Filename', 'Chunk Size', 'Generated Question', 'Generated Answer'], dtype='object')\n",
      "Index(['Filename', 'Chunk Size', 'Generated Question', 'Generated Answer'], dtype='object')\n",
      "Index(['Filename', 'Chunk Size', 'Generated Question', 'Generated Answer'], dtype='object')\n",
      "Index(['Filename', 'Chunk Size', 'Generated Question', 'Generated Answer'], dtype='object')\n"
     ]
    }
   ],
   "source": [
    "folder = \"generated_questions/\"\n",
    "for file in os.listdir(folder):\n",
    "    separate_q_a(folder, file)"
   ]
  },
  {
   "cell_type": "code",
   "execution_count": null,
   "id": "3632db2f-2e34-48b2-9073-af90ea1b0c9e",
   "metadata": {},
   "outputs": [],
   "source": []
  }
 ],
 "metadata": {
  "kernelspec": {
   "display_name": "Python 3 (ipykernel)",
   "language": "python",
   "name": "python3"
  },
  "language_info": {
   "codemirror_mode": {
    "name": "ipython",
    "version": 3
   },
   "file_extension": ".py",
   "mimetype": "text/x-python",
   "name": "python",
   "nbconvert_exporter": "python",
   "pygments_lexer": "ipython3",
   "version": "3.10.9"
  }
 },
 "nbformat": 4,
 "nbformat_minor": 5
}
