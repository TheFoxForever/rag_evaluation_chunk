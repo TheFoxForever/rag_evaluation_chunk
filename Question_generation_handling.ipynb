{
 "cells": [
  {
   "cell_type": "code",
   "execution_count": 7,
   "id": "47f1eff0-5541-4578-96d0-b23c538382eb",
   "metadata": {},
   "outputs": [
    {
     "name": "stdout",
     "output_type": "stream",
     "text": [
      "Collecting pandas\n",
      "  Downloading pandas-2.2.2-cp310-cp310-manylinux_2_17_x86_64.manylinux2014_x86_64.whl (13.0 MB)\n",
      "\u001b[2K     \u001b[38;2;114;156;31m━━━━━━━━━━━━━━━━━━━━━━━━━━━━━━━━━━━━━━━━\u001b[0m \u001b[32m13.0/13.0 MB\u001b[0m \u001b[31m82.6 MB/s\u001b[0m eta \u001b[36m0:00:00\u001b[0mm eta \u001b[36m0:00:01\u001b[0m[36m0:00:01\u001b[0m\n",
      "\u001b[?25hRequirement already satisfied: python-dateutil>=2.8.2 in /opt/conda/lib/python3.10/site-packages (from pandas) (2.9.0.post0)\n",
      "Requirement already satisfied: numpy>=1.22.4 in /opt/conda/lib/python3.10/site-packages (from pandas) (1.26.4)\n",
      "Collecting pytz>=2020.1\n",
      "  Downloading pytz-2024.1-py2.py3-none-any.whl (505 kB)\n",
      "\u001b[2K     \u001b[38;2;114;156;31m━━━━━━━━━━━━━━━━━━━━━━━━━━━━━━━━━━━━━━\u001b[0m \u001b[32m505.5/505.5 kB\u001b[0m \u001b[31m58.4 MB/s\u001b[0m eta \u001b[36m0:00:00\u001b[0m\n",
      "\u001b[?25hCollecting tzdata>=2022.7\n",
      "  Downloading tzdata-2024.1-py2.py3-none-any.whl (345 kB)\n",
      "\u001b[2K     \u001b[38;2;114;156;31m━━━━━━━━━━━━━━━━━━━━━━━━━━━━━━━━━━━━━━\u001b[0m \u001b[32m345.4/345.4 kB\u001b[0m \u001b[31m24.6 MB/s\u001b[0m eta \u001b[36m0:00:00\u001b[0m\n",
      "\u001b[?25hRequirement already satisfied: six>=1.5 in /opt/conda/lib/python3.10/site-packages (from python-dateutil>=2.8.2->pandas) (1.16.0)\n",
      "Installing collected packages: pytz, tzdata, pandas\n",
      "Successfully installed pandas-2.2.2 pytz-2024.1 tzdata-2024.1\n"
     ]
    }
   ],
   "source": [
    "!pip install pandas"
   ]
  },
  {
   "cell_type": "code",
   "execution_count": 8,
   "id": "3360e6d7-ab28-4343-b3d5-c46b433c6136",
   "metadata": {},
   "outputs": [],
   "source": [
    "import os\n",
    "import pandas as pd"
   ]
  },
  {
   "cell_type": "code",
   "execution_count": 9,
   "id": "e1507fcf-5fba-4c35-94ab-5fe3cec93e65",
   "metadata": {},
   "outputs": [
    {
     "name": "stdout",
     "output_type": "stream",
     "text": [
      "['Question_generation_handling.ipynb', 'generated_questions_1024.csv', 'raw_data', 'question_generation.py', 'generated_questions_128.csv', 'generated_questions_256.csv', 'Data_Chunking.ipynb', 'Question_Generation.ipynb', 'chunked_data', 'generated_questions_2048.csv', '.ipynb_checkpoints', 'generated_questions_512.csv']\n"
     ]
    }
   ],
   "source": [
    "print(os.listdir())"
   ]
  },
  {
   "cell_type": "code",
   "execution_count": 10,
   "id": "b10d69a4-ab4c-488a-8ba9-0a593f5c0a23",
   "metadata": {},
   "outputs": [],
   "source": [
    "df = pd.read_csv(\"generated_questions_128.csv\")"
   ]
  },
  {
   "cell_type": "code",
   "execution_count": 11,
   "id": "4d708412-5af9-4577-8e28-fa1ba23606d4",
   "metadata": {},
   "outputs": [
    {
     "data": {
      "text/html": [
       "<div>\n",
       "<style scoped>\n",
       "    .dataframe tbody tr th:only-of-type {\n",
       "        vertical-align: middle;\n",
       "    }\n",
       "\n",
       "    .dataframe tbody tr th {\n",
       "        vertical-align: top;\n",
       "    }\n",
       "\n",
       "    .dataframe thead th {\n",
       "        text-align: right;\n",
       "    }\n",
       "</style>\n",
       "<table border=\"1\" class=\"dataframe\">\n",
       "  <thead>\n",
       "    <tr style=\"text-align: right;\">\n",
       "      <th></th>\n",
       "      <th>Filename</th>\n",
       "      <th>Chunk Size</th>\n",
       "      <th>Generated Question</th>\n",
       "    </tr>\n",
       "  </thead>\n",
       "  <tbody>\n",
       "    <tr>\n",
       "      <th>0</th>\n",
       "      <td>aa23-213a_chunk_10.txt</td>\n",
       "      <td>128</td>\n",
       "      <td>What is the purpose of the API endpoint used i...</td>\n",
       "    </tr>\n",
       "    <tr>\n",
       "      <th>1</th>\n",
       "      <td>aa23-347a_chunk_17.txt</td>\n",
       "      <td>128</td>\n",
       "      <td>What is the purpose of using multiple communic...</td>\n",
       "    </tr>\n",
       "    <tr>\n",
       "      <th>2</th>\n",
       "      <td>aa23-158a_chunk_33.txt</td>\n",
       "      <td>128</td>\n",
       "      <td>What is the purpose of reporting ransomware at...</td>\n",
       "    </tr>\n",
       "    <tr>\n",
       "      <th>3</th>\n",
       "      <td>aa23-278a_chunk_6.txt</td>\n",
       "      <td>128</td>\n",
       "      <td>What are the default passwords for commonly us...</td>\n",
       "    </tr>\n",
       "    <tr>\n",
       "      <th>4</th>\n",
       "      <td>aa23-278a_chunk_66.txt</td>\n",
       "      <td>128</td>\n",
       "      <td>What is the purpose of finding specific networ...</td>\n",
       "    </tr>\n",
       "  </tbody>\n",
       "</table>\n",
       "</div>"
      ],
      "text/plain": [
       "                 Filename  Chunk Size  \\\n",
       "0  aa23-213a_chunk_10.txt         128   \n",
       "1  aa23-347a_chunk_17.txt         128   \n",
       "2  aa23-158a_chunk_33.txt         128   \n",
       "3   aa23-278a_chunk_6.txt         128   \n",
       "4  aa23-278a_chunk_66.txt         128   \n",
       "\n",
       "                                  Generated Question  \n",
       "0  What is the purpose of the API endpoint used i...  \n",
       "1  What is the purpose of using multiple communic...  \n",
       "2  What is the purpose of reporting ransomware at...  \n",
       "3  What are the default passwords for commonly us...  \n",
       "4  What is the purpose of finding specific networ...  "
      ]
     },
     "execution_count": 11,
     "metadata": {},
     "output_type": "execute_result"
    }
   ],
   "source": [
    "df.head()"
   ]
  },
  {
   "cell_type": "code",
   "execution_count": 15,
   "id": "363a1f38-6ed8-4fc1-bc18-89a30ca9b782",
   "metadata": {},
   "outputs": [
    {
     "name": "stdout",
     "output_type": "stream",
     "text": [
      "0       What is the purpose of the API endpoint used i...\n",
      "1       What is the purpose of using multiple communic...\n",
      "2       What is the purpose of reporting ransomware at...\n",
      "3       What are the default passwords for commonly us...\n",
      "4       What is the purpose of finding specific networ...\n",
      "                              ...                        \n",
      "3038    What is the purpose of the `ClientKeyExchanges...\n",
      "3039    What is the purpose of dropping the \"sortcomba...\n",
      "3040    What is the purpose of maintaining offline bac...\n",
      "3041    What is the purpose of restricting the path tr...\n",
      "3042    What is the purpose of the DH parameter p and ...\n",
      "Name: Generated Question, Length: 3043, dtype: object\n"
     ]
    }
   ],
   "source": [
    "print(df[\"Generated Question\"])"
   ]
  },
  {
   "cell_type": "code",
   "execution_count": null,
   "id": "c6bb7627-9604-4bb3-a858-87c9c0ce0154",
   "metadata": {},
   "outputs": [],
   "source": []
  }
 ],
 "metadata": {
  "kernelspec": {
   "display_name": "Python 3 (ipykernel)",
   "language": "python",
   "name": "python3"
  },
  "language_info": {
   "codemirror_mode": {
    "name": "ipython",
    "version": 3
   },
   "file_extension": ".py",
   "mimetype": "text/x-python",
   "name": "python",
   "nbconvert_exporter": "python",
   "pygments_lexer": "ipython3",
   "version": "3.10.9"
  }
 },
 "nbformat": 4,
 "nbformat_minor": 5
}
